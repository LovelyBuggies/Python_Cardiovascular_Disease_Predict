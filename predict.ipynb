{
 "cells": [
  {
   "cell_type": "markdown",
   "metadata": {},
   "source": [
    "# 心血管疾病预测\n",
    "\n",
    "*平台上训练可能比较慢，你可以从[这里](https://isrc.iscas.ac.cn/gitlab/summer2020/students/proj-2033168/-/blob/master/predict.ipynb)得到每个单元的输出，也可以在 [![Binder](https://mybinder.org/badge_logo.svg)](https://mybinder.org/v2/gh/LovelyBuggies/Python_Cardiovascular_Disease_Predict/master?filepath=predict.ipynb) 上发布以训练。*\n",
    "\n",
    "在分类问题中，分类的目的是从一组数据中选择一个类别（例如，给出一张苹果或橘子的图片，并确定图片中的水果是什么）。本项目使用心血管疾病数据集，该数据集提供11个特征值和1个目标值，包含70,000例患者记录的数据。建立了预测样本是否有心血管疾病的算法模型。本次实训主要介绍如何实现“心血管疾病预测模型”的开发。"
   ]
  },
  {
   "cell_type": "markdown",
   "metadata": {},
   "source": [
    "## 数据预处理\n",
    "\n",
    "我们首先从 Kaggle 数据集 https://www.kaggle.com/sulianova/cardiovascular-disease-dataset 中下载数据，并将数据放到合适的文件夹以供加载。"
   ]
  },
  {
   "cell_type": "markdown",
   "metadata": {},
   "source": [
    "### 数据探索\n",
    "\n",
    "我们首先探索一下该数据集的数据特征。"
   ]
  },
  {
   "cell_type": "code",
   "execution_count": 1,
   "metadata": {},
   "outputs": [],
   "source": [
    "import os\n",
    "import pandas as pd"
   ]
  },
  {
   "cell_type": "markdown",
   "metadata": {},
   "source": [
    "用 pandas 读取数据集，并显示数据开头的项，或者显示数据项类型。我们可以看出，载入的数据中包含年龄、性别、吸烟与否等各项指标，以及它们对应的数据量和数据类型。"
   ]
  },
  {
   "cell_type": "code",
   "execution_count": 2,
   "metadata": {
    "scrolled": true
   },
   "outputs": [
    {
     "name": "stdout",
     "output_type": "stream",
     "text": [
      "<class 'pandas.core.frame.DataFrame'>\n",
      "RangeIndex: 70000 entries, 0 to 69999\n",
      "Data columns (total 13 columns):\n",
      " #   Column       Non-Null Count  Dtype  \n",
      "---  ------       --------------  -----  \n",
      " 0   id           70000 non-null  int64  \n",
      " 1   age          70000 non-null  int64  \n",
      " 2   gender       70000 non-null  int64  \n",
      " 3   height       70000 non-null  int64  \n",
      " 4   weight       70000 non-null  float64\n",
      " 5   ap_hi        70000 non-null  int64  \n",
      " 6   ap_lo        70000 non-null  int64  \n",
      " 7   cholesterol  70000 non-null  int64  \n",
      " 8   gluc         70000 non-null  int64  \n",
      " 9   smoke        70000 non-null  int64  \n",
      " 10  alco         70000 non-null  int64  \n",
      " 11  active       70000 non-null  int64  \n",
      " 12  cardio       70000 non-null  int64  \n",
      "dtypes: float64(1), int64(12)\n",
      "memory usage: 6.9 MB\n"
     ]
    }
   ],
   "source": [
    "data = pd.read_csv(\"./data/cardio_train.csv\", sep=\";\")\n",
    "# data.head()\n",
    "data.info()"
   ]
  },
  {
   "cell_type": "markdown",
   "metadata": {},
   "source": [
    "接下来，我们需要剔除数据中的无效值，即血压过高或者过低的值，并设置一个新的表项体脂率 `bmi`。"
   ]
  },
  {
   "cell_type": "code",
   "execution_count": 3,
   "metadata": {
    "scrolled": true
   },
   "outputs": [
    {
     "name": "stdout",
     "output_type": "stream",
     "text": [
      "<class 'pandas.core.frame.DataFrame'>\n",
      "Int64Index: 68975 entries, 0 to 69999\n",
      "Data columns (total 13 columns):\n",
      " #   Column       Non-Null Count  Dtype  \n",
      "---  ------       --------------  -----  \n",
      " 0   age          68975 non-null  int64  \n",
      " 1   gender       68975 non-null  int64  \n",
      " 2   height       68975 non-null  int64  \n",
      " 3   weight       68975 non-null  float64\n",
      " 4   ap_hi        68975 non-null  int64  \n",
      " 5   ap_lo        68975 non-null  int64  \n",
      " 6   cholesterol  68975 non-null  int64  \n",
      " 7   gluc         68975 non-null  int64  \n",
      " 8   smoke        68975 non-null  int64  \n",
      " 9   alco         68975 non-null  int64  \n",
      " 10  active       68975 non-null  int64  \n",
      " 11  cardio       68975 non-null  int64  \n",
      " 12  bmi          68975 non-null  float64\n",
      "dtypes: float64(2), int64(11)\n",
      "memory usage: 7.4 MB\n"
     ]
    }
   ],
   "source": [
    "if \"id\" in data:\n",
    "    data.drop(\"id\",axis=1,inplace=True)\n",
    "\n",
    "data.drop_duplicates(inplace=True)\n",
    "data[\"bmi\"] = data[\"weight\"] / (data[\"height\"]/100)**2\n",
    "out_lier = (data[\"ap_hi\"] > 250) | (data[\"ap_lo\"] > 200) | (data[\"ap_hi\"] < 0) | (data[\"ap_lo\"] < 0)\n",
    "data = data[~out_lier]\n",
    "# data.head()\n",
    "data.info()"
   ]
  },
  {
   "cell_type": "markdown",
   "metadata": {},
   "source": [
    "### 配置文件报告\n",
    "\n",
    "`pandas_profiling` 是一个从 pandas `dataFrame` 中生成配置文件报告的工具。我们在此使用它，将生成的报告导出成 HTML 格式。"
   ]
  },
  {
   "cell_type": "code",
   "execution_count": 4,
   "metadata": {},
   "outputs": [
    {
     "data": {
      "application/vnd.jupyter.widget-view+json": {
       "model_id": "966c20d535f34883b2f59bc951efa657",
       "version_major": 2,
       "version_minor": 0
      },
      "text/plain": [
       "HBox(children=(FloatProgress(value=0.0, description='Summarize dataset', max=28.0, style=ProgressStyle(descrip…"
      ]
     },
     "metadata": {},
     "output_type": "display_data"
    },
    {
     "name": "stdout",
     "output_type": "stream",
     "text": [
      "\n"
     ]
    },
    {
     "data": {
      "application/vnd.jupyter.widget-view+json": {
       "model_id": "b9aec81026964ea1bd625d3e229f7f87",
       "version_major": 2,
       "version_minor": 0
      },
      "text/plain": [
       "HBox(children=(FloatProgress(value=0.0, description='Generate report structure', max=1.0, style=ProgressStyle(…"
      ]
     },
     "metadata": {},
     "output_type": "display_data"
    },
    {
     "name": "stderr",
     "output_type": "stream",
     "text": [
      "/usr/local/lib/python3.7/site-packages/pandas_profiling/visualisation/plot.py:154: MatplotlibDeprecationWarning: You are modifying the state of a globally registered colormap. In future versions, you will not be able to modify a registered colormap in-place. To remove this warning, you can make a copy of the colormap first. cmap = copy.copy(mpl.cm.get_cmap(\"RdBu\"))\n",
      "  cmap.set_bad(cmap_bad)\n"
     ]
    },
    {
     "name": "stdout",
     "output_type": "stream",
     "text": [
      "\n"
     ]
    },
    {
     "data": {
      "application/vnd.jupyter.widget-view+json": {
       "model_id": "5549158a0c9d475298a0cef4648b160c",
       "version_major": 2,
       "version_minor": 0
      },
      "text/plain": [
       "HBox(children=(FloatProgress(value=0.0, description='Render HTML', max=1.0, style=ProgressStyle(description_wi…"
      ]
     },
     "metadata": {},
     "output_type": "display_data"
    },
    {
     "name": "stdout",
     "output_type": "stream",
     "text": [
      "\n"
     ]
    },
    {
     "data": {
      "application/vnd.jupyter.widget-view+json": {
       "model_id": "e691a6296e0f483fa70920a92f106908",
       "version_major": 2,
       "version_minor": 0
      },
      "text/plain": [
       "HBox(children=(FloatProgress(value=0.0, description='Export report to file', max=1.0, style=ProgressStyle(desc…"
      ]
     },
     "metadata": {},
     "output_type": "display_data"
    },
    {
     "name": "stdout",
     "output_type": "stream",
     "text": [
      "\n"
     ]
    }
   ],
   "source": [
    "from pandas_profiling import ProfileReport\n",
    "\n",
    "profile = ProfileReport(data, title='Cardio-Disease Report', explorative=True)\n",
    "# profile.to_notebook_iframe()\n",
    "if not os.path.exists(\"cardio_report.html\"):\n",
    "    profile.to_file(\"cardio_report.html\")"
   ]
  },
  {
   "cell_type": "markdown",
   "metadata": {},
   "source": [
    "### 分离数据\n",
    "\n",
    "接下来，我们需要分离数据。我们现将标签和真值分离出来。然后，我们使用了 `sklearn.model_selection` 中的分离函数，设置分离比率为 9 比 1，分离之后训练集中还有 62077 个项，验证集中含有 6898 个项。"
   ]
  },
  {
   "cell_type": "code",
   "execution_count": 5,
   "metadata": {},
   "outputs": [],
   "source": [
    "labels = data['cardio']\n",
    "data = data.drop(['cardio'], axis=1)"
   ]
  },
  {
   "cell_type": "code",
   "execution_count": 6,
   "metadata": {},
   "outputs": [
    {
     "name": "stdout",
     "output_type": "stream",
     "text": [
      "<class 'pandas.core.frame.DataFrame'>\n",
      "Int64Index: 62077 entries, 709 to 69281\n",
      "Data columns (total 12 columns):\n",
      " #   Column       Non-Null Count  Dtype  \n",
      "---  ------       --------------  -----  \n",
      " 0   age          62077 non-null  int64  \n",
      " 1   gender       62077 non-null  int64  \n",
      " 2   height       62077 non-null  int64  \n",
      " 3   weight       62077 non-null  float64\n",
      " 4   ap_hi        62077 non-null  int64  \n",
      " 5   ap_lo        62077 non-null  int64  \n",
      " 6   cholesterol  62077 non-null  int64  \n",
      " 7   gluc         62077 non-null  int64  \n",
      " 8   smoke        62077 non-null  int64  \n",
      " 9   alco         62077 non-null  int64  \n",
      " 10  active       62077 non-null  int64  \n",
      " 11  bmi          62077 non-null  float64\n",
      "dtypes: float64(2), int64(10)\n",
      "memory usage: 6.2 MB\n",
      "<class 'pandas.core.frame.DataFrame'>\n",
      "Int64Index: 6898 entries, 51756 to 14694\n",
      "Data columns (total 12 columns):\n",
      " #   Column       Non-Null Count  Dtype  \n",
      "---  ------       --------------  -----  \n",
      " 0   age          6898 non-null   int64  \n",
      " 1   gender       6898 non-null   int64  \n",
      " 2   height       6898 non-null   int64  \n",
      " 3   weight       6898 non-null   float64\n",
      " 4   ap_hi        6898 non-null   int64  \n",
      " 5   ap_lo        6898 non-null   int64  \n",
      " 6   cholesterol  6898 non-null   int64  \n",
      " 7   gluc         6898 non-null   int64  \n",
      " 8   smoke        6898 non-null   int64  \n",
      " 9   alco         6898 non-null   int64  \n",
      " 10  active       6898 non-null   int64  \n",
      " 11  bmi          6898 non-null   float64\n",
      "dtypes: float64(2), int64(10)\n",
      "memory usage: 700.6 KB\n"
     ]
    }
   ],
   "source": [
    "from sklearn.model_selection import train_test_split\n",
    "\n",
    "train, valid, train_labels, ground_truth = train_test_split(data, labels, test_size=0.1, random_state=0)\n",
    "train.info()\n",
    "valid.info()"
   ]
  },
  {
   "cell_type": "markdown",
   "metadata": {},
   "source": [
    "## Scikit-Learn 模型\n",
    "\n",
    "Scikit-learn (Sklearn) 是基于 Python 语言的机器学习工具，其中提供了很多机器学习工具的接口可以帮助我们进行数据分析。我们首先用 Sklearn 中的一些接口进行分析。"
   ]
  },
  {
   "cell_type": "code",
   "execution_count": 7,
   "metadata": {},
   "outputs": [],
   "source": [
    "from sklearn.linear_model import LogisticRegression, Perceptron, RidgeClassifier, SGDClassifier\n",
    "from sklearn.svm import SVC\n",
    "from sklearn.model_selection import GridSearchCV, cross_val_score\n",
    "from sklearn.ensemble import RandomForestClassifier, ExtraTreesClassifier, GradientBoostingClassifier\n",
    "from sklearn.ensemble import BaggingClassifier, AdaBoostClassifier\n",
    "from sklearn.neighbors import KNeighborsClassifier\n",
    "from sklearn.naive_bayes import GaussianNB\n",
    "from sklearn.tree import DecisionTreeClassifier\n",
    "\n",
    "from hyperopt import STATUS_OK, Trials, fmin, hp, tpe, space_eval\n",
    "from xgboost.sklearn import XGBClassifier\n",
    "from lightgbm.sklearn import LGBMClassifier\n",
    "\n",
    "import matplotlib.pyplot as plt"
   ]
  },
  {
   "cell_type": "markdown",
   "metadata": {},
   "source": [
    "### 逻辑回归\n",
    "\n",
    "逻辑回归是在工作流早期运行的一个有用的模型。逻辑回归通过使用 Logistic 函数估计概率来衡量分类因变量（特征）和一个或多个自变量（特征）之间的关系，这是累计 Logistic 分布。首先，载入一个逻辑回归预测器并进行拟合："
   ]
  },
  {
   "cell_type": "code",
   "execution_count": 8,
   "metadata": {},
   "outputs": [
    {
     "data": {
      "text/plain": [
       "LogisticRegression(C=1.0, class_weight=None, dual=False, fit_intercept=True,\n",
       "                   intercept_scaling=1, l1_ratio=None, max_iter=100,\n",
       "                   multi_class='auto', n_jobs=None, penalty='l2',\n",
       "                   random_state=None, solver='lbfgs', tol=0.0001, verbose=0,\n",
       "                   warm_start=False)"
      ]
     },
     "execution_count": 8,
     "metadata": {},
     "output_type": "execute_result"
    }
   ],
   "source": [
    "logreg = LogisticRegression()\n",
    "logreg.fit(train, train_labels)"
   ]
  },
  {
   "cell_type": "markdown",
   "metadata": {},
   "source": [
    "然后，我们可以得到训练集和验证集的预测准确率："
   ]
  },
  {
   "cell_type": "code",
   "execution_count": 9,
   "metadata": {},
   "outputs": [
    {
     "name": "stdout",
     "output_type": "stream",
     "text": [
      "Train Set Accuracy: 71.72%; Validation Set Accuracy: 71.96%.\n"
     ]
    }
   ],
   "source": [
    "acc_logreg_train = round(logreg.score(train, train_labels) * 100, 2)\n",
    "acc_logreg_valid = round(logreg.score(valid, ground_truth) * 100, 2)\n",
    "\n",
    "print(f\"Train Set Accuracy: {acc_logreg_train}%; Validation Set Accuracy: {acc_logreg_valid}%.\")"
   ]
  },
  {
   "cell_type": "markdown",
   "metadata": {},
   "source": [
    "### 支持向量机\n",
    "\n",
    "支持向量机是监督学习模型与相关的学习算法，分析用于分类和回归分析的数据。给定一组训练样本，每个样本都被标记为属于两个类别中的一个或另一个类别，SVM 训练算法建立一个模型，将新的测试样本分配给一个类别或另一个类别，使其成为一个非概率二值线性分类器。首先加载一个支持向量机并对训练集进行拟合："
   ]
  },
  {
   "cell_type": "code",
   "execution_count": 10,
   "metadata": {},
   "outputs": [
    {
     "name": "stderr",
     "output_type": "stream",
     "text": [
      "/usr/local/lib/python3.7/site-packages/sklearn/svm/_base.py:231: ConvergenceWarning: Solver terminated early (max_iter=1000).  Consider pre-processing your data with StandardScaler or MinMaxScaler.\n",
      "  % self.max_iter, ConvergenceWarning)\n"
     ]
    },
    {
     "data": {
      "text/plain": [
       "SVC(C=1.0, break_ties=False, cache_size=200, class_weight=None, coef0=0.0,\n",
       "    decision_function_shape='ovr', degree=3, gamma='scale', kernel='rbf',\n",
       "    max_iter=1000, probability=False, random_state=None, shrinking=True,\n",
       "    tol=0.001, verbose=False)"
      ]
     },
     "execution_count": 10,
     "metadata": {},
     "output_type": "execute_result"
    }
   ],
   "source": [
    "svc = SVC(max_iter=1000)\n",
    "svc.fit(train, train_labels)"
   ]
  },
  {
   "cell_type": "markdown",
   "metadata": {},
   "source": [
    "然后，我们可以得到训练集和验证集的预测准确率："
   ]
  },
  {
   "cell_type": "code",
   "execution_count": 11,
   "metadata": {},
   "outputs": [
    {
     "name": "stdout",
     "output_type": "stream",
     "text": [
      "Train Set Accuracy: 56.63%; Validation Set Accuracy: 57.03%.\n"
     ]
    }
   ],
   "source": [
    "acc_svc_train = round(svc.score(train, train_labels) * 100, 2)\n",
    "acc_svc_valid = round(svc.score(valid, ground_truth) * 100, 2)\n",
    "\n",
    "print(f\"Train Set Accuracy: {acc_svc_train}%; Validation Set Accuracy: {acc_svc_valid}%.\")"
   ]
  },
  {
   "cell_type": "markdown",
   "metadata": {},
   "source": [
    "### K 近邻\n",
    "\n",
    "在模式识别中，K 近邻算法是一种用于分类和回归的非参数方法。一个样本由其邻居的多数投票来分类，该样本被分配到它的 K 个最近邻居中最常见的类。载入一个网格搜索器，并用 KNN 分类器作为评估器，然后进行拟合："
   ]
  },
  {
   "cell_type": "code",
   "execution_count": 12,
   "metadata": {
    "scrolled": true
   },
   "outputs": [
    {
     "data": {
      "text/plain": [
       "GridSearchCV(cv=10, error_score=nan,\n",
       "             estimator=KNeighborsClassifier(algorithm='auto', leaf_size=30,\n",
       "                                            metric='minkowski',\n",
       "                                            metric_params=None, n_jobs=None,\n",
       "                                            n_neighbors=5, p=2,\n",
       "                                            weights='uniform'),\n",
       "             iid='deprecated', n_jobs=None, param_grid={'n_neighbors': [3, 3]},\n",
       "             pre_dispatch='2*n_jobs', refit=True, return_train_score=False,\n",
       "             scoring=None, verbose=0)"
      ]
     },
     "execution_count": 12,
     "metadata": {},
     "output_type": "execute_result"
    }
   ],
   "source": [
    "knn = GridSearchCV(estimator=KNeighborsClassifier(), param_grid={'n_neighbors': [3, 3]}, cv=10)\n",
    "knn.fit(train, train_labels)"
   ]
  },
  {
   "cell_type": "markdown",
   "metadata": {},
   "source": [
    "然后，我们可以得到训练集和验证集的预测准确率："
   ]
  },
  {
   "cell_type": "code",
   "execution_count": 13,
   "metadata": {},
   "outputs": [
    {
     "name": "stdout",
     "output_type": "stream",
     "text": [
      "Train Set Accuracy: 81.46%; Validation Set Accuracy: 67.18%.\n"
     ]
    }
   ],
   "source": [
    "acc_knn_train = round(knn.score(train, train_labels) * 100, 2)\n",
    "acc_knn_valid = round(knn.score(valid, ground_truth) * 100, 2)\n",
    "\n",
    "print(f\"Train Set Accuracy: {acc_knn_train}%; Validation Set Accuracy: {acc_knn_valid}%.\")"
   ]
  },
  {
   "cell_type": "markdown",
   "metadata": {},
   "source": [
    "### 岭分类\n",
    "\n",
    "岭回归是最常用的回归算法来找到一个没有唯一解的方程的答案近似值。这种类型的问题在机器学习任务中非常常见，在这种任务中，必须使用有限的数据来选择“最佳”的解决方案。如果存在唯一解，算法将返回最优值。但是，如果存在多种解决方案，它可以选择其中任何一种。因为这里是一个分类问题，我们先载入一个岭分类器，并进行拟合："
   ]
  },
  {
   "cell_type": "code",
   "execution_count": 14,
   "metadata": {},
   "outputs": [
    {
     "data": {
      "text/plain": [
       "RidgeClassifier(alpha=1.0, class_weight=None, copy_X=True, fit_intercept=True,\n",
       "                max_iter=None, normalize=False, random_state=None,\n",
       "                solver='auto', tol=0.001)"
      ]
     },
     "execution_count": 14,
     "metadata": {},
     "output_type": "execute_result"
    }
   ],
   "source": [
    "ridge = RidgeClassifier()\n",
    "ridge.fit(train, train_labels)"
   ]
  },
  {
   "cell_type": "markdown",
   "metadata": {},
   "source": [
    "然后，我们可以得到训练集和验证集的预测准确率："
   ]
  },
  {
   "cell_type": "code",
   "execution_count": 15,
   "metadata": {},
   "outputs": [
    {
     "name": "stdout",
     "output_type": "stream",
     "text": [
      "Train Set Accuracy: 72.37%; Validation Set Accuracy: 72.41%.\n"
     ]
    }
   ],
   "source": [
    "acc_ridge_train = round(ridge.score(train, train_labels) * 100, 2)\n",
    "acc_ridge_valid = round(ridge.score(valid, ground_truth) * 100, 2)\n",
    "\n",
    "print(f\"Train Set Accuracy: {acc_ridge_train}%; Validation Set Accuracy: {acc_ridge_valid}%.\")"
   ]
  },
  {
   "cell_type": "markdown",
   "metadata": {},
   "source": [
    "### 袋分类\n",
    "\n",
    "袋分类器是一种集成元估计器，它适合原始数据集的随机子集上的基分类器，然后聚合它们各自的预测以形成最终的预测。这种元估计器通常可以用来减少黑箱估计器的方差，方法是在构造过程中引入随机化，然后对其进行集成。"
   ]
  },
  {
   "cell_type": "code",
   "execution_count": 16,
   "metadata": {},
   "outputs": [
    {
     "data": {
      "text/plain": [
       "BaggingClassifier(base_estimator=None, bootstrap=True, bootstrap_features=False,\n",
       "                  max_features=1.0, max_samples=1.0, n_estimators=10,\n",
       "                  n_jobs=None, oob_score=False, random_state=None, verbose=0,\n",
       "                  warm_start=False)"
      ]
     },
     "execution_count": 16,
     "metadata": {},
     "output_type": "execute_result"
    }
   ],
   "source": [
    "bagging = BaggingClassifier()\n",
    "bagging.fit(train, train_labels)"
   ]
  },
  {
   "cell_type": "markdown",
   "metadata": {},
   "source": [
    "然后，我们可以得到训练集和验证集的预测准确率："
   ]
  },
  {
   "cell_type": "code",
   "execution_count": 17,
   "metadata": {},
   "outputs": [
    {
     "name": "stdout",
     "output_type": "stream",
     "text": [
      "Train Set Accuracy: 97.98%; Validation Set Accuracy: 69.57%.\n"
     ]
    }
   ],
   "source": [
    "acc_bagging_train = round(bagging.score(train, train_labels) * 100, 2)\n",
    "acc_bagging_valid = round(bagging.score(valid, ground_truth) * 100, 2)\n",
    "\n",
    "print(f\"Train Set Accuracy: {acc_bagging_train}%; Validation Set Accuracy: {acc_bagging_valid}%.\")"
   ]
  },
  {
   "cell_type": "markdown",
   "metadata": {},
   "source": [
    "### 高斯朴素贝叶斯\n",
    "\n",
    "在机器学习中，朴素贝叶斯分类器是一组基于贝叶斯定理的简单概率分类器，具有特征之间的强独立性假设。朴素贝叶斯分类器是高度可扩展的，需要大量的参数在变量的数量线性学习问题。首先，我们先载入一个高斯朴素贝叶斯分类器，并拟合训练集："
   ]
  },
  {
   "cell_type": "code",
   "execution_count": 18,
   "metadata": {
    "scrolled": true
   },
   "outputs": [
    {
     "data": {
      "text/plain": [
       "GaussianNB(priors=None, var_smoothing=1e-09)"
      ]
     },
     "execution_count": 18,
     "metadata": {},
     "output_type": "execute_result"
    }
   ],
   "source": [
    "gnb = GaussianNB()\n",
    "gnb.fit(train, train_labels)"
   ]
  },
  {
   "cell_type": "markdown",
   "metadata": {},
   "source": [
    "然后，我们可以得到训练集和验证集的预测准确率："
   ]
  },
  {
   "cell_type": "code",
   "execution_count": 19,
   "metadata": {},
   "outputs": [
    {
     "name": "stdout",
     "output_type": "stream",
     "text": [
      "Train Set Accuracy: 70.27%; Validation Set Accuracy: 69.79%.\n"
     ]
    }
   ],
   "source": [
    "acc_gnb_train = round(gnb.score(train, train_labels) * 100, 2)\n",
    "acc_gnb_valid = round(gnb.score(valid, ground_truth) * 100, 2)\n",
    "\n",
    "print(f\"Train Set Accuracy: {acc_gnb_train}%; Validation Set Accuracy: {acc_gnb_valid}%.\")"
   ]
  },
  {
   "cell_type": "markdown",
   "metadata": {},
   "source": [
    "### 感知器\n",
    "\n",
    "感知器是一个二进制分类器的监督学习算法（函数可以决定输入是否属于某个特定的类，由数字向量表示）。它是一种线性分类器，即基于线性预测函数结合一组权值和特征向量进行预测的分类算法。同样，我们载入一个感知器，然后进行拟合："
   ]
  },
  {
   "cell_type": "code",
   "execution_count": 20,
   "metadata": {
    "scrolled": true
   },
   "outputs": [
    {
     "data": {
      "text/plain": [
       "Perceptron(alpha=0.0001, class_weight=None, early_stopping=False, eta0=1.0,\n",
       "           fit_intercept=True, max_iter=1000, n_iter_no_change=5, n_jobs=None,\n",
       "           penalty=None, random_state=0, shuffle=True, tol=0.001,\n",
       "           validation_fraction=0.1, verbose=0, warm_start=False)"
      ]
     },
     "execution_count": 20,
     "metadata": {},
     "output_type": "execute_result"
    }
   ],
   "source": [
    "perceptron = Perceptron()\n",
    "perceptron.fit(train, train_labels)"
   ]
  },
  {
   "cell_type": "markdown",
   "metadata": {},
   "source": [
    "然后，我们就能得到训练集和验证集的预测准确率："
   ]
  },
  {
   "cell_type": "code",
   "execution_count": 21,
   "metadata": {},
   "outputs": [
    {
     "name": "stdout",
     "output_type": "stream",
     "text": [
      "Train Set Accuracy: 66.65%; Validation Set Accuracy: 65.76%.\n"
     ]
    }
   ],
   "source": [
    "acc_perceptron_train = round(perceptron.score(train, train_labels) * 100, 2)\n",
    "acc_perceptron_valid = round(perceptron.score(valid, ground_truth) * 100, 2)\n",
    "\n",
    "print(f\"Train Set Accuracy: {acc_perceptron_train}%; Validation Set Accuracy: {acc_perceptron_valid}%.\")"
   ]
  },
  {
   "cell_type": "markdown",
   "metadata": {},
   "source": [
    "### 随机梯度下降\n",
    "\n",
    "随机梯度下降是一种迭代方法，用于优化具有适当光滑性的目标函数。它可以被看作是梯度下降优化的一种随机近似，因为它将实际的梯度替换为一个估计。特别是在大数据应用程序中，这减少了计算负担，实现了更快的迭代，但收敛速度略低。首先，载入一个 SGD 分类器，进行拟合："
   ]
  },
  {
   "cell_type": "code",
   "execution_count": 22,
   "metadata": {
    "scrolled": true
   },
   "outputs": [
    {
     "data": {
      "text/plain": [
       "SGDClassifier(alpha=0.0001, average=False, class_weight=None,\n",
       "              early_stopping=False, epsilon=0.1, eta0=0.0, fit_intercept=True,\n",
       "              l1_ratio=0.15, learning_rate='optimal', loss='hinge',\n",
       "              max_iter=1000, n_iter_no_change=5, n_jobs=None, penalty='l2',\n",
       "              power_t=0.5, random_state=None, shuffle=True, tol=0.001,\n",
       "              validation_fraction=0.1, verbose=0, warm_start=False)"
      ]
     },
     "execution_count": 22,
     "metadata": {},
     "output_type": "execute_result"
    }
   ],
   "source": [
    "sgd = SGDClassifier()\n",
    "sgd.fit(train, train_labels)"
   ]
  },
  {
   "cell_type": "markdown",
   "metadata": {},
   "source": [
    "然后，我们就能得到训练集和验证集的预测准确率："
   ]
  },
  {
   "cell_type": "code",
   "execution_count": 23,
   "metadata": {},
   "outputs": [
    {
     "name": "stdout",
     "output_type": "stream",
     "text": [
      "Train Set Accuracy: 56.01%; Validation Set Accuracy: 55.47%.\n"
     ]
    }
   ],
   "source": [
    "acc_sgd_train = round(sgd.score(train, train_labels) * 100, 2)\n",
    "acc_sgd_valid = round(sgd.score(valid, ground_truth) * 100, 2)\n",
    "\n",
    "print(f\"Train Set Accuracy: {acc_sgd_train}%; Validation Set Accuracy: {acc_sgd_valid}%.\")"
   ]
  },
  {
   "cell_type": "markdown",
   "metadata": {},
   "source": [
    "### 决策树\n",
    "\n",
    "决策树分类器将特征（枝）映射到关于目标值（叶）的结论。目标变量可以取有限的一组值的树模型称为分类树;在这些树形结构中，叶子表示类标签，分支表示连接到这些类标签的特征。目标变量可以取连续值的决策树称为回归树。我们载入一个决策树分类器并进行拟合："
   ]
  },
  {
   "cell_type": "code",
   "execution_count": 24,
   "metadata": {
    "scrolled": true
   },
   "outputs": [
    {
     "data": {
      "text/plain": [
       "DecisionTreeClassifier(ccp_alpha=0.0, class_weight=None, criterion='gini',\n",
       "                       max_depth=None, max_features=None, max_leaf_nodes=None,\n",
       "                       min_impurity_decrease=0.0, min_impurity_split=None,\n",
       "                       min_samples_leaf=1, min_samples_split=2,\n",
       "                       min_weight_fraction_leaf=0.0, presort='deprecated',\n",
       "                       random_state=None, splitter='best')"
      ]
     },
     "execution_count": 24,
     "metadata": {},
     "output_type": "execute_result"
    }
   ],
   "source": [
    "dt = DecisionTreeClassifier()\n",
    "dt.fit(train, train_labels)"
   ]
  },
  {
   "cell_type": "markdown",
   "metadata": {},
   "source": [
    "然后，我们就能得到训练集和验证集的预测准确率："
   ]
  },
  {
   "cell_type": "code",
   "execution_count": 25,
   "metadata": {},
   "outputs": [
    {
     "name": "stdout",
     "output_type": "stream",
     "text": [
      "Train Set Accuracy: 99.98%; Validation Set Accuracy: 63.61%.\n"
     ]
    }
   ],
   "source": [
    "acc_dt_train = round(dt.score(train, train_labels) * 100, 2)\n",
    "acc_dt_valid = round(dt.score(valid, ground_truth) * 100, 2)\n",
    "\n",
    "print(f\"Train Set Accuracy: {acc_dt_train}%; Validation Set Accuracy: {acc_dt_valid}%.\")"
   ]
  },
  {
   "cell_type": "markdown",
   "metadata": {},
   "source": [
    "### 随机森林\n",
    "\n",
    "随机森林是一个包含多个决策树的分类器， 并且其输出的类别是由个别树输出的类别的众数而定。我们创建一个网格搜索器，并用随机森林分类器作为估计器，对训练集进行拟合，"
   ]
  },
  {
   "cell_type": "code",
   "execution_count": 26,
   "metadata": {
    "scrolled": true
   },
   "outputs": [
    {
     "data": {
      "text/plain": [
       "GridSearchCV(cv=5, error_score=nan,\n",
       "             estimator=RandomForestClassifier(bootstrap=True, ccp_alpha=0.0,\n",
       "                                              class_weight=None,\n",
       "                                              criterion='gini', max_depth=None,\n",
       "                                              max_features='auto',\n",
       "                                              max_leaf_nodes=None,\n",
       "                                              max_samples=None,\n",
       "                                              min_impurity_decrease=0.0,\n",
       "                                              min_impurity_split=None,\n",
       "                                              min_samples_leaf=1,\n",
       "                                              min_samples_split=2,\n",
       "                                              min_weight_fraction_leaf=0.0,\n",
       "                                              n_estimators=100, n_jobs=None,\n",
       "                                              oob_score=False,\n",
       "                                              random_state=None, verbose=0,\n",
       "                                              warm_start=False),\n",
       "             iid='deprecated', n_jobs=None,\n",
       "             param_grid={'n_estimators': [100, 300]}, pre_dispatch='2*n_jobs',\n",
       "             refit=True, return_train_score=False, scoring=None, verbose=0)"
      ]
     },
     "execution_count": 26,
     "metadata": {},
     "output_type": "execute_result"
    }
   ],
   "source": [
    "rf = GridSearchCV(estimator=RandomForestClassifier(), param_grid={'n_estimators': [100, 300]}, cv=5)\n",
    "rf.fit(train, train_labels)"
   ]
  },
  {
   "cell_type": "markdown",
   "metadata": {},
   "source": [
    "然后，我们就能得到训练集和验证集的预测准确率："
   ]
  },
  {
   "cell_type": "code",
   "execution_count": 27,
   "metadata": {},
   "outputs": [
    {
     "name": "stdout",
     "output_type": "stream",
     "text": [
      "Train Set Accuracy: 99.97%; Validation Set Accuracy: 71.82%.\n"
     ]
    }
   ],
   "source": [
    "acc_rf_train = round(rf.score(train, train_labels) * 100, 2)\n",
    "acc_rf_valid = round(rf.score(valid, ground_truth) * 100, 2)\n",
    "\n",
    "print(f\"Train Set Accuracy: {acc_rf_train}%; Validation Set Accuracy: {acc_rf_valid}%.\")"
   ]
  },
  {
   "cell_type": "markdown",
   "metadata": {},
   "source": [
    "### 极端随机树\n",
    "\n",
    "极端随机树实现了一个元估计器，它在数据集的各个子样本上匹配极端随机树，并使用平均来提高预测精度和控制过拟合。控制树大小的参数的默认值会导致完全生长和未修剪的树，在某些数据集上可能会非常大。为了减少内存消耗，应该通过设置这些参数值来控制树的复杂性和大小。在载入极端随机树之前，我们先用 `hyperopt_et_score` 工具找到合适的超参数，然后构建分类器，并进行拟合："
   ]
  },
  {
   "cell_type": "code",
   "execution_count": 28,
   "metadata": {},
   "outputs": [
    {
     "name": "stdout",
     "output_type": "stream",
     "text": [
      "0.7200249520827001                                    \n",
      "{'max_depth': 3, 'max_features': None, 'min_samples_leaf': 3, 'n_estimators': 103}\n",
      "0.7251478159427583                                                              \n",
      "{'max_depth': 4, 'max_features': None, 'min_samples_leaf': 2, 'n_estimators': 149}\n",
      "0.6595201325324418                                                              \n",
      "{'max_depth': 1, 'max_features': None, 'min_samples_leaf': 2, 'n_estimators': 131}\n",
      "0.6576978711473079                                                              \n",
      "{'max_depth': 1, 'max_features': None, 'min_samples_leaf': 3, 'n_estimators': 135}\n",
      "0.7207339459398185                                                              \n",
      "{'max_depth': 3, 'max_features': None, 'min_samples_leaf': 2, 'n_estimators': 137}\n",
      "0.7245678723224029                                                              \n",
      "{'max_depth': 4, 'max_features': None, 'min_samples_leaf': 1, 'n_estimators': 143}\n",
      "0.7193646436970896                                                              \n",
      "{'max_depth': 3, 'max_features': None, 'min_samples_leaf': 3, 'n_estimators': 138}\n",
      "0.7089099006318109                                                              \n",
      "{'max_depth': 2, 'max_features': None, 'min_samples_leaf': 3, 'n_estimators': 125}\n",
      "0.7256310062716024                                                              \n",
      "{'max_depth': 4, 'max_features': None, 'min_samples_leaf': 1, 'n_estimators': 135}\n",
      "0.7082330246529109                                                              \n",
      "{'max_depth': 2, 'max_features': None, 'min_samples_leaf': 1, 'n_estimators': 127}\n",
      "100%|██████████| 10/10 [02:49<00:00, 16.91s/trial, best loss: 0.6576978711473079]\n",
      "Best Extra Trees Param\n",
      "{'max_depth': 1, 'max_features': None, 'min_samples_leaf': 3, 'n_estimators': 135}\n"
     ]
    }
   ],
   "source": [
    "def hyperopt_et_score(params):\n",
    "    et = ExtraTreesClassifier(**params)\n",
    "    score = cross_val_score(et, train, train_labels, cv=10).mean()\n",
    "    print(score, params)\n",
    "    return score \n",
    " \n",
    "hyperopt_et_space = {\n",
    "            'n_estimators': hp.choice('n_estimators', range(100, 150)),\n",
    "            'max_features': hp.choice('max_features', range(2, 17)),\n",
    "            'min_samples_leaf': hp.choice('min_samples_leaf', range(1, 5)),\n",
    "            'max_depth':  hp.choice('max_depth', range(1, 5)),\n",
    "            'max_features': None,\n",
    "        }\n",
    " \n",
    "best_et = fmin(fn=hyperopt_et_score, space=hyperopt_et_space, algo=tpe.suggest, max_evals=10)\n",
    "best_et_param = space_eval(hyperopt_et_space, best_et)\n",
    "print(\"Best Extra Trees Param\")\n",
    "print(best_et_param)"
   ]
  },
  {
   "cell_type": "code",
   "execution_count": 29,
   "metadata": {
    "scrolled": true
   },
   "outputs": [
    {
     "data": {
      "text/plain": [
       "ExtraTreesClassifier(bootstrap=False, ccp_alpha=0.0, class_weight=None,\n",
       "                     criterion='gini', max_depth=1, max_features=None,\n",
       "                     max_leaf_nodes=None, max_samples=None,\n",
       "                     min_impurity_decrease=0.0, min_impurity_split=None,\n",
       "                     min_samples_leaf=3, min_samples_split=2,\n",
       "                     min_weight_fraction_leaf=0.0, n_estimators=135,\n",
       "                     n_jobs=None, oob_score=False, random_state=None, verbose=0,\n",
       "                     warm_start=False)"
      ]
     },
     "execution_count": 29,
     "metadata": {},
     "output_type": "execute_result"
    }
   ],
   "source": [
    "et = ExtraTreesClassifier(**best_et_param)\n",
    "et.fit(train, train_labels)"
   ]
  },
  {
   "cell_type": "markdown",
   "metadata": {},
   "source": [
    "然后，我们就能得到训练集和验证集的预测准确率："
   ]
  },
  {
   "cell_type": "code",
   "execution_count": 30,
   "metadata": {},
   "outputs": [
    {
     "name": "stdout",
     "output_type": "stream",
     "text": [
      "Train Set Accuracy: 66.93%; Validation Set Accuracy: 66.6%.\n"
     ]
    }
   ],
   "source": [
    "acc_et_train = round(et.score(train, train_labels) * 100, 2)\n",
    "acc_et_valid = round(et.score(valid, ground_truth) * 100, 2)\n",
    "\n",
    "print(f\"Train Set Accuracy: {acc_et_train}%; Validation Set Accuracy: {acc_et_valid}%.\")"
   ]
  },
  {
   "cell_type": "markdown",
   "metadata": {},
   "source": [
    "### 梯度提升\n",
    "\n",
    "梯度提升是增强算法中的一大类算法，它的思想借鉴于梯度下降法，其基本原理是根据当前模型损失函数的负梯度信息来训练新加入的弱分类器，然后将训练好的弱分类器以累加的形式结合到现有模型中。在载入梯度提升分类器前，我们需要找到合适的超参数，然后进行拟合："
   ]
  },
  {
   "cell_type": "code",
   "execution_count": 31,
   "metadata": {},
   "outputs": [
    {
     "name": "stdout",
     "output_type": "stream",
     "text": [
      "0.7330411815766701                                    \n",
      "{'max_depth': 2, 'n_estimators': 128}                 \n",
      "0.7159978980125532                                                              \n",
      "{'max_depth': 8, 'n_estimators': 753}                                           \n",
      "0.7322357328730947                                                               \n",
      "{'max_depth': 3, 'n_estimators': 723}                                            \n",
      "0.7299321938026405                                                               \n",
      "{'max_depth': 5, 'n_estimators': 571}                                              \n",
      "0.7307215212829213                                                                    \n",
      "{'max_depth': 5, 'n_estimators': 520}                                                 \n",
      "0.7326545784481769                                                                    \n",
      "{'max_depth': 2, 'n_estimators': 840}                                                 \n",
      "0.7335244912835358                                                                    \n",
      "{'max_depth': 6, 'n_estimators': 131}                                                 \n",
      "0.7316397744315944                                                                    \n",
      "{'max_depth': 4, 'n_estimators': 588}                                                 \n",
      "0.7136298403116536                                                                    \n",
      "{'max_depth': 9, 'n_estimators': 618}                                              \n",
      "0.7340077413013907                                                                    \n",
      "{'max_depth': 3, 'n_estimators': 234}                                                 \n",
      "100%|██████████| 10/10 [7:29:39<00:00, 2697.93s/trial, best loss: 0.7136298403116536] \n",
      "Best Gradient Boosting Param\n",
      "{'max_depth': 9, 'n_estimators': 618}\n"
     ]
    }
   ],
   "source": [
    "def hyperopt_gb_score(params):\n",
    "    gb = GradientBoostingClassifier(**params)\n",
    "    score = cross_val_score(gb, train, train_labels, cv=10).mean()\n",
    "    print(score, params)\n",
    "    return score \n",
    " \n",
    "hyperopt_gb_space = {\n",
    "            'n_estimators': hp.choice('n_estimators', range(100, 900)),\n",
    "            'max_depth': hp.choice('max_depth', range(2, 10))          \n",
    "        }\n",
    " \n",
    "best_gb = fmin(fn=hyperopt_gb_score, space=hyperopt_gb_space, algo=tpe.suggest, max_evals=10)\n",
    "best_gb_param = space_eval(hyperopt_gb_space, best_gb)\n",
    "print(\"Best Gradient Boosting Param\")\n",
    "print(best_gb_param)"
   ]
  },
  {
   "cell_type": "code",
   "execution_count": 32,
   "metadata": {},
   "outputs": [
    {
     "data": {
      "text/plain": [
       "GradientBoostingClassifier(ccp_alpha=0.0, criterion='friedman_mse', init=None,\n",
       "                           learning_rate=0.1, loss='deviance', max_depth=9,\n",
       "                           max_features=None, max_leaf_nodes=None,\n",
       "                           min_impurity_decrease=0.0, min_impurity_split=None,\n",
       "                           min_samples_leaf=1, min_samples_split=2,\n",
       "                           min_weight_fraction_leaf=0.0, n_estimators=618,\n",
       "                           n_iter_no_change=None, presort='deprecated',\n",
       "                           random_state=None, subsample=1.0, tol=0.0001,\n",
       "                           validation_fraction=0.1, verbose=0,\n",
       "                           warm_start=False)"
      ]
     },
     "execution_count": 32,
     "metadata": {},
     "output_type": "execute_result"
    }
   ],
   "source": [
    "gb = GradientBoostingClassifier(**best_gb_param)\n",
    "gb.fit(train, train_labels)"
   ]
  },
  {
   "cell_type": "markdown",
   "metadata": {},
   "source": [
    "然后，我们就能得到训练集和验证集的预测准确率："
   ]
  },
  {
   "cell_type": "code",
   "execution_count": 33,
   "metadata": {},
   "outputs": [
    {
     "name": "stdout",
     "output_type": "stream",
     "text": [
      "Train Set Accuracy: 93.87%; Validation Set Accuracy: 71.69%.\n"
     ]
    }
   ],
   "source": [
    "acc_gb_train = round(gb.score(train, train_labels) * 100, 2)\n",
    "acc_gb_valid = round(gb.score(valid, ground_truth) * 100, 2)\n",
    "\n",
    "print(f\"Train Set Accuracy: {acc_gb_train}%; Validation Set Accuracy: {acc_gb_valid}%.\")"
   ]
  },
  {
   "cell_type": "markdown",
   "metadata": {},
   "source": [
    "### AdaBoost\n",
    "\n",
    "Adaboost是一种迭代算法，其核心思想是针对同一个训练集训练不同的分类器(弱分类器)，然后把这些弱分类器集合起来，构成一个更强的最终分类器（强分类器）。在载入 AdaBoost 分类器前，我们需要找到合适的超参数，然后进行拟合："
   ]
  },
  {
   "cell_type": "code",
   "execution_count": 34,
   "metadata": {},
   "outputs": [
    {
     "name": "stdout",
     "output_type": "stream",
     "text": [
      "0.7227797037431966                                    \n",
      "{'learning_rate': 0.04, 'n_estimators': 223}          \n",
      "0.7246966863982965                                                              \n",
      "{'learning_rate': 0.05, 'n_estimators': 298}                                    \n",
      "0.7238106912672588                                                              \n",
      "{'learning_rate': 0.04, 'n_estimators': 290}                                    \n",
      "0.7225542298020693                                                              \n",
      "{'learning_rate': 0.04, 'n_estimators': 189}                                    \n",
      "0.7170932821938648                                                              \n",
      "{'learning_rate': 0.02, 'n_estimators': 196}                                    \n",
      "0.7194291130192217                                                              \n",
      "{'learning_rate': 0.05, 'n_estimators': 102}                                    \n",
      "0.7183175842580458                                                              \n",
      "{'learning_rate': 0.03, 'n_estimators': 154}                                    \n",
      "0.7237945674487899                                                              \n",
      "{'learning_rate': 0.04, 'n_estimators': 280}                                    \n",
      "0.7160300651990852                                                              \n",
      "{'learning_rate': 0.03, 'n_estimators': 123}                                    \n",
      "0.7224414616894128                                                               \n",
      "{'learning_rate': 0.03, 'n_estimators': 230}                                       \n",
      "100%|██████████| 10/10 [1:54:30<00:00, 687.07s/trial, best loss: 0.7160300651990852] \n",
      "Best AdaBoost Param\n",
      "{'learning_rate': 0.03, 'n_estimators': 123}\n"
     ]
    }
   ],
   "source": [
    "def hyperopt_ab_score(params):\n",
    "    ab = AdaBoostClassifier(**params)\n",
    "    score = cross_val_score(ab, train, train_labels, cv=10).mean()\n",
    "    print(score, params)\n",
    "    return score \n",
    " \n",
    "hyperopt_ab_space = {\n",
    "            'n_estimators': hp.choice('n_estimators', range(100, 300)),\n",
    "            'learning_rate': hp.quniform('learning_rate', 0.01, 0.05, 0.01)       \n",
    "        }\n",
    " \n",
    "best_ab = fmin(fn=hyperopt_ab_score, space=hyperopt_ab_space, algo=tpe.suggest, max_evals=10)\n",
    "best_ab_param = space_eval(hyperopt_ab_space, best_ab)\n",
    "print(\"Best AdaBoost Param\")\n",
    "print(best_ab_param)"
   ]
  },
  {
   "cell_type": "code",
   "execution_count": 35,
   "metadata": {},
   "outputs": [
    {
     "data": {
      "text/plain": [
       "AdaBoostClassifier(algorithm='SAMME.R', base_estimator=None, learning_rate=0.03,\n",
       "                   n_estimators=123, random_state=None)"
      ]
     },
     "execution_count": 35,
     "metadata": {},
     "output_type": "execute_result"
    }
   ],
   "source": [
    "ab = AdaBoostClassifier(**best_ab_param)\n",
    "ab.fit(train, train_labels)"
   ]
  },
  {
   "cell_type": "markdown",
   "metadata": {},
   "source": [
    "然后，我们就能得到训练集和验证集的预测准确率："
   ]
  },
  {
   "cell_type": "code",
   "execution_count": 36,
   "metadata": {},
   "outputs": [
    {
     "name": "stdout",
     "output_type": "stream",
     "text": [
      "Train Set Accuracy: 71.65%; Validation Set Accuracy: 72.06%.\n"
     ]
    }
   ],
   "source": [
    "acc_ab_train = round(ab.score(train, train_labels) * 100, 2)\n",
    "acc_ab_valid = round(ab.score(valid, ground_truth) * 100, 2)\n",
    "\n",
    "print(f\"Train Set Accuracy: {acc_ab_train}%; Validation Set Accuracy: {acc_ab_valid}%.\")"
   ]
  },
  {
   "cell_type": "markdown",
   "metadata": {},
   "source": [
    "### XGBoost\n",
    "\n",
    "XGBoost 在普通增强算法的基础上，提供了一种并行树推进，可以快速、准确地解决许多数据科学问题。在载入 XGBoost 分类器前，我们需要找到合适的超参数，然后进行拟合："
   ]
  },
  {
   "cell_type": "code",
   "execution_count": 37,
   "metadata": {},
   "outputs": [
    {
     "name": "stdout",
     "output_type": "stream",
     "text": [
      "0.7318491453156479                                    \n",
      "{'booster': 'gbtree', 'colsample_bytree': 0.6000000000000001, 'eta': 0.5, 'eval_metric': 'auc', 'gamma': 1.0, 'learning_rate': 0.0199, 'max_depth': 11, 'min_child_weight': 6.300000000000001, 'missing': None, 'n_estimators': 718, 'objective': 'binary:logistic', 'subsample': 1.0, 'tree_method': 'exact'}\n",
      "0.732332457617688                                                                \n",
      "{'booster': 'gbtree', 'colsample_bytree': 0.6000000000000001, 'eta': 0.4, 'eval_metric': 'auc', 'gamma': 0.9, 'learning_rate': 0.0167, 'max_depth': 11, 'min_child_weight': 6.300000000000001, 'missing': None, 'n_estimators': 764, 'objective': 'binary:logistic', 'subsample': 0.8, 'tree_method': 'exact'}\n",
      "0.7266781617320983                                                               \n",
      "{'booster': 'gbtree', 'colsample_bytree': 0.6000000000000001, 'eta': 0.5, 'eval_metric': 'auc', 'gamma': 1.0, 'learning_rate': 0.049100000000000005, 'max_depth': 11, 'min_child_weight': 6.9, 'missing': None, 'n_estimators': 744, 'objective': 'binary:logistic', 'subsample': 0.9, 'tree_method': 'exact'}\n",
      "0.7300933100141344                                                               \n",
      "{'booster': 'gbtree', 'colsample_bytree': 0.6000000000000001, 'eta': 0.5, 'eval_metric': 'auc', 'gamma': 1.0, 'learning_rate': 0.0364, 'max_depth': 10, 'min_child_weight': 5.7, 'missing': None, 'n_estimators': 751, 'objective': 'binary:logistic', 'subsample': 0.9, 'tree_method': 'exact'}\n",
      "0.7275641698390078                                                               \n",
      "{'booster': 'gbtree', 'colsample_bytree': 0.5, 'eta': 0.5, 'eval_metric': 'auc', 'gamma': 0.9, 'learning_rate': 0.0451, 'max_depth': 11, 'min_child_weight': 5.800000000000001, 'missing': None, 'n_estimators': 720, 'objective': 'binary:logistic', 'subsample': 0.9, 'tree_method': 'exact'}\n",
      "0.731430382786146                                                                \n",
      "{'booster': 'gbtree', 'colsample_bytree': 0.6000000000000001, 'eta': 0.5, 'eval_metric': 'auc', 'gamma': 1.0, 'learning_rate': 0.0258, 'max_depth': 10, 'min_child_weight': 5.9, 'missing': None, 'n_estimators': 708, 'objective': 'binary:logistic', 'subsample': 0.8, 'tree_method': 'exact'}\n",
      "0.7278541390540112                                                               \n",
      "{'booster': 'gbtree', 'colsample_bytree': 0.7000000000000001, 'eta': 0.5, 'eval_metric': 'auc', 'gamma': 1.0, 'learning_rate': 0.0367, 'max_depth': 11, 'min_child_weight': 6.9, 'missing': None, 'n_estimators': 715, 'objective': 'binary:logistic', 'subsample': 0.9, 'tree_method': 'exact'}\n",
      "0.732864040163334                                                                \n",
      "{'booster': 'gbtree', 'colsample_bytree': 0.5, 'eta': 0.5, 'eval_metric': 'auc', 'gamma': 1.0, 'learning_rate': 0.0064, 'max_depth': 11, 'min_child_weight': 5.6000000000000005, 'missing': None, 'n_estimators': 784, 'objective': 'binary:logistic', 'subsample': 1.0, 'tree_method': 'exact'}\n",
      "0.7336372749672384                                                               \n",
      "{'booster': 'gbtree', 'colsample_bytree': 0.6000000000000001, 'eta': 0.5, 'eval_metric': 'auc', 'gamma': 0.9, 'learning_rate': 0.0055000000000000005, 'max_depth': 10, 'min_child_weight': 5.7, 'missing': None, 'n_estimators': 749, 'objective': 'binary:logistic', 'subsample': 1.0, 'tree_method': 'exact'}\n",
      "0.7303671450299711                                                               \n",
      "{'booster': 'gbtree', 'colsample_bytree': 0.6000000000000001, 'eta': 0.5, 'eval_metric': 'auc', 'gamma': 0.9, 'learning_rate': 0.049100000000000005, 'max_depth': 10, 'min_child_weight': 5.800000000000001, 'missing': None, 'n_estimators': 713, 'objective': 'binary:logistic', 'subsample': 1.0, 'tree_method': 'exact'}\n",
      "100%|██████████| 10/10 [25:53<00:00, 155.31s/trial, best loss: 0.7266781617320983]\n",
      "Best XGB Param\n",
      "{'booster': 'gbtree', 'colsample_bytree': 0.6000000000000001, 'eta': 0.5, 'eval_metric': 'auc', 'gamma': 1.0, 'learning_rate': 0.049100000000000005, 'max_depth': 11, 'min_child_weight': 6.9, 'missing': None, 'n_estimators': 744, 'objective': 'binary:logistic', 'subsample': 0.9, 'tree_method': 'exact'}\n"
     ]
    }
   ],
   "source": [
    "def hyperopt_xgb_score(params):\n",
    "    xgb = XGBClassifier(**params)\n",
    "    score = cross_val_score(xgb, train, train_labels, cv=10).mean()\n",
    "    print(score, params)\n",
    "    return score \n",
    " \n",
    "hyperopt_xgb_space = {\n",
    "            'learning_rate': hp.quniform('learning_rate', 0, 0.05, 0.0001),\n",
    "            'n_estimators': hp.choice('n_estimators', range(700, 800)),\n",
    "            'eta': hp.quniform('eta', 0.4, 0.5, 0.1),\n",
    "            'max_depth':  hp.choice('max_depth', range(10, 12)),\n",
    "            'min_child_weight': hp.quniform('min_child_weight', 5, 7, 0.1),\n",
    "            'subsample': hp.quniform('subsample', 0.8, 1, 0.1),\n",
    "            'gamma': hp.quniform('gamma', 0.9, 1, 0.1),\n",
    "            'colsample_bytree': hp.quniform('colsample_bytree', 0.5, 0.7, 0.1),\n",
    "            'eval_metric': 'auc',\n",
    "            'objective': 'binary:logistic',\n",
    "            'booster': 'gbtree',\n",
    "            'tree_method': 'exact',\n",
    "            'missing': None\n",
    "        }\n",
    " \n",
    "best_xgb = fmin(fn=hyperopt_xgb_score, space=hyperopt_xgb_space, algo=tpe.suggest, max_evals=10)\n",
    "best_xgb_param = space_eval(hyperopt_xgb_space, best_xgb)\n",
    "print(\"Best XGB Param\")\n",
    "print(best_xgb_param)"
   ]
  },
  {
   "cell_type": "code",
   "execution_count": 38,
   "metadata": {},
   "outputs": [
    {
     "name": "stdout",
     "output_type": "stream",
     "text": [
      "[22:11:14] WARNING: /Users/travis/build/dmlc/xgboost/src/learner.cc:480: \n",
      "Parameters: { min_samples_leaf } might not be used.\n",
      "\n",
      "  This may not be accurate due to some parameters are only used in language bindings but\n",
      "  passed down to XGBoost core.  Or some parameters are not used but slip through this\n",
      "  verification. Please open an issue if you find above cases.\n",
      "\n",
      "\n"
     ]
    },
    {
     "data": {
      "text/plain": [
       "XGBClassifier(base_score=0.5, booster='gbtree', colsample_bylevel=1,\n",
       "              colsample_bynode=1, colsample_bytree=1, gamma=0, gpu_id=-1,\n",
       "              importance_type='gain', interaction_constraints='',\n",
       "              learning_rate=0.300000012, max_delta_step=0, max_depth=1,\n",
       "              max_features=None, min_child_weight=1, min_samples_leaf=3,\n",
       "              missing=nan, monotone_constraints='()', n_estimators=135,\n",
       "              n_jobs=0, num_parallel_tree=1, objective='binary:logistic',\n",
       "              random_state=0, reg_alpha=0, reg_lambda=1, scale_pos_weight=1,\n",
       "              subsample=1, tree_method='exact', validate_parameters=1,\n",
       "              verbosity=None)"
      ]
     },
     "execution_count": 38,
     "metadata": {},
     "output_type": "execute_result"
    }
   ],
   "source": [
    "xgb = XGBClassifier(**best_et_param)\n",
    "xgb.fit(train, train_labels)"
   ]
  },
  {
   "cell_type": "markdown",
   "metadata": {},
   "source": [
    "然后，我们就能得到训练集和验证集的预测准确率："
   ]
  },
  {
   "cell_type": "code",
   "execution_count": 39,
   "metadata": {},
   "outputs": [
    {
     "name": "stdout",
     "output_type": "stream",
     "text": [
      "Train Set Accuracy: 73.09%; Validation Set Accuracy: 73.62%.\n"
     ]
    }
   ],
   "source": [
    "acc_xgb_train = round(xgb.score(train, train_labels) * 100, 2)\n",
    "acc_xgb_valid = round(xgb.score(valid, ground_truth) * 100, 2)\n",
    "\n",
    "print(f\"Train Set Accuracy: {acc_xgb_train}%; Validation Set Accuracy: {acc_xgb_valid}%.\")"
   ]
  },
  {
   "cell_type": "markdown",
   "metadata": {},
   "source": [
    "### LightGBM\n",
    "\n",
    "LightGBM 是一个使用基于树的学习算法的梯度增强框架，它不需要通过所有样本计算信息增益且内置特征降维技术，所以更加快速。在载入 LightGBM 分类器前，我们需要找到合适的超参数，然后进行拟合："
   ]
  },
  {
   "cell_type": "code",
   "execution_count": 40,
   "metadata": {},
   "outputs": [
    {
     "name": "stdout",
     "output_type": "stream",
     "text": [
      "0.7350548370728758                                    \n",
      "{'boosting_type': 'gbdt', 'colsample_bytree': 0.55, 'learning_rate': 0.0134, 'max_depth': 5, 'min_child_weight': 5.3500000000000005, 'n_estimators': 722, 'num_leaves': 1307, 'objective': 'binary'}\n",
      "0.734152676600579                                                               \n",
      "{'boosting_type': 'gbdt', 'colsample_bytree': 0.55, 'learning_rate': 0.0413, 'max_depth': 2, 'min_child_weight': 7.15, 'n_estimators': 590, 'num_leaves': 595, 'objective': 'binary'}\n",
      "0.7345554865931214                                                              \n",
      "{'boosting_type': 'gbdt', 'colsample_bytree': 0.8, 'learning_rate': 0.049800000000000004, 'max_depth': 3, 'min_child_weight': 5.050000000000001, 'n_estimators': 993, 'num_leaves': 32, 'objective': 'binary'}\n",
      "0.7357636804098798                                                             \n",
      "{'boosting_type': 'gbdt', 'colsample_bytree': 0.75, 'learning_rate': 0.019100000000000002, 'max_depth': 5, 'min_child_weight': 5.15, 'n_estimators': 616, 'num_leaves': 273, 'objective': 'binary'}\n",
      "0.7345232104092652                                                             \n",
      "{'boosting_type': 'gbdt', 'colsample_bytree': 1.0, 'learning_rate': 0.0216, 'max_depth': 3, 'min_child_weight': 3.5500000000000003, 'n_estimators': 827, 'num_leaves': 600, 'objective': 'binary'}\n",
      "0.7336211018404561                                                             \n",
      "{'boosting_type': 'gbdt', 'colsample_bytree': 0.8500000000000001, 'learning_rate': 0.0273, 'max_depth': 2, 'min_child_weight': 7.95, 'n_estimators': 631, 'num_leaves': 372, 'objective': 'binary'}\n",
      "0.724906184445895                                                               \n",
      "{'boosting_type': 'gbdt', 'colsample_bytree': 0.6000000000000001, 'learning_rate': 0.0434, 'max_depth': 11, 'min_child_weight': 4.25, 'n_estimators': 931, 'num_leaves': 679, 'objective': 'binary'}\n",
      "0.7333473031570609                                                              \n",
      "{'boosting_type': 'gbdt', 'colsample_bytree': 1.0, 'learning_rate': 0.046, 'max_depth': 6, 'min_child_weight': 6.050000000000001, 'n_estimators': 745, 'num_leaves': 79, 'objective': 'binary'}\n",
      "0.7323162559439874                                                             \n",
      "{'boosting_type': 'gbdt', 'colsample_bytree': 0.9, 'learning_rate': 0.0108, 'max_depth': 10, 'min_child_weight': 5.550000000000001, 'n_estimators': 885, 'num_leaves': 1240, 'objective': 'binary'}\n",
      "0.732493534901566                                                              \n",
      "{'boosting_type': 'gbdt', 'colsample_bytree': 0.8500000000000001, 'learning_rate': 0.041100000000000005, 'max_depth': 7, 'min_child_weight': 8.3, 'n_estimators': 865, 'num_leaves': 1321, 'objective': 'binary'}\n",
      "100%|██████████| 10/10 [03:26<00:00, 20.67s/trial, best loss: 0.724906184445895]\n",
      "Best LGBM Param\n",
      "{'boosting_type': 'gbdt', 'colsample_bytree': 0.6000000000000001, 'learning_rate': 0.0434, 'max_depth': 11, 'min_child_weight': 4.25, 'n_estimators': 931, 'num_leaves': 679, 'objective': 'binary'}\n"
     ]
    }
   ],
   "source": [
    "def hyperopt_lgbm_score(params):\n",
    "    lgbm = LGBMClassifier(**params)\n",
    "    score = cross_val_score(lgbm, train, train_labels, cv=10).mean()\n",
    "    print(score, params)\n",
    "    return score \n",
    " \n",
    "hyperopt_lgbm_space = {\n",
    "            'learning_rate': hp.quniform('learning_rate', 0, 0.05, 0.0001),\n",
    "            'n_estimators': hp.choice('n_estimators', range(500, 1000)),\n",
    "            'max_depth':  hp.choice('max_depth', range(2, 12)),\n",
    "            'num_leaves': hp.choice('num_leaves', range(2, 2**11)),\n",
    "            'min_child_weight': hp.quniform('min_child_weight', 1, 9, 0.05),\n",
    "            'colsample_bytree': hp.quniform('colsample_bytree', 0.5, 1, 0.05),\n",
    "            'objective': 'binary',\n",
    "            'boosting_type': 'gbdt',\n",
    "            }\n",
    " \n",
    "best_lgbm = fmin(fn=hyperopt_lgbm_score, space=hyperopt_lgbm_space, algo=tpe.suggest, max_evals=10)\n",
    "best_lgbm_param = space_eval(hyperopt_lgbm_space, best_lgbm)\n",
    "print(\"Best LGBM Param\")\n",
    "print(best_lgbm_param)"
   ]
  },
  {
   "cell_type": "code",
   "execution_count": 41,
   "metadata": {},
   "outputs": [
    {
     "data": {
      "text/plain": [
       "LGBMClassifier(boosting_type='gbdt', class_weight=None,\n",
       "               colsample_bytree=0.6000000000000001, importance_type='split',\n",
       "               learning_rate=0.0434, max_depth=11, min_child_samples=20,\n",
       "               min_child_weight=4.25, min_split_gain=0.0, n_estimators=931,\n",
       "               n_jobs=-1, num_leaves=679, objective='binary', random_state=None,\n",
       "               reg_alpha=0.0, reg_lambda=0.0, silent=True, subsample=1.0,\n",
       "               subsample_for_bin=200000, subsample_freq=0)"
      ]
     },
     "execution_count": 41,
     "metadata": {},
     "output_type": "execute_result"
    }
   ],
   "source": [
    "lgbm = LGBMClassifier(**best_lgbm_param)\n",
    "lgbm.fit(train, train_labels)"
   ]
  },
  {
   "cell_type": "markdown",
   "metadata": {},
   "source": [
    "然后，我们就能得到训练集和验证集的预测准确率："
   ]
  },
  {
   "cell_type": "code",
   "execution_count": 42,
   "metadata": {},
   "outputs": [
    {
     "name": "stdout",
     "output_type": "stream",
     "text": [
      "Train Set Accuracy: 83.14%; Validation Set Accuracy: 72.99%.\n"
     ]
    }
   ],
   "source": [
    "acc_lgbm_train = round(lgbm.score(train, train_labels) * 100, 2)\n",
    "acc_lgbm_valid = round(lgbm.score(valid, ground_truth) * 100, 2)\n",
    "\n",
    "print(f\"Train Set Accuracy: {acc_lgbm_train}%; Validation Set Accuracy: {acc_lgbm_valid}%.\")"
   ]
  },
  {
   "cell_type": "markdown",
   "metadata": {},
   "source": [
    "### 对比\n",
    "\n",
    "接下来，我们将模型的结果汇总，并进行横向的对比。"
   ]
  },
  {
   "cell_type": "code",
   "execution_count": 43,
   "metadata": {},
   "outputs": [],
   "source": [
    "res = pd.DataFrame({\n",
    "    \n",
    "    'model': [\n",
    "        'Logistic Regression', 'Support Vector Machine', 'K-Nearest Neighbors', \n",
    "        'RidgeClassifier', 'BaggingClassifier', 'Naive Bayes', 'Perceptron',\n",
    "        'Stochastic Gradient Decent', 'Decision Tree', 'Random Forest', \n",
    "        'ExtraTreesClassifier', 'GradientBoostingClassifier', \n",
    "        'AdaBoostClassifier','XGBClassifier', 'LGBMClassifier',\n",
    "    ],\n",
    "    \n",
    "    'acc_train': [\n",
    "        acc_logreg_train, acc_svc_train, acc_knn_train, acc_ridge_train,\n",
    "        acc_bagging_train, acc_gnb_train, acc_perceptron_train, acc_sgd_train,\n",
    "        acc_dt_train, acc_rf_train, acc_et_train, acc_gb_train, acc_ab_train,\n",
    "        acc_xgb_train, acc_lgbm_train,\n",
    "    ],\n",
    "    \n",
    "    'acc_valid': [\n",
    "        acc_logreg_valid, acc_svc_valid, acc_knn_valid, acc_ridge_valid,\n",
    "        acc_bagging_valid, acc_gnb_valid, acc_perceptron_valid, acc_sgd_valid,\n",
    "        acc_dt_valid, acc_rf_valid, acc_et_valid, acc_gb_valid, acc_ab_valid,\n",
    "        acc_xgb_valid, acc_lgbm_valid,\n",
    "    ],\n",
    "                    \n",
    "})"
   ]
  },
  {
   "cell_type": "markdown",
   "metadata": {},
   "source": [
    "按验证集和训练集的准确性进行降序排列，并绘制成折线图。"
   ]
  },
  {
   "cell_type": "code",
   "execution_count": 44,
   "metadata": {},
   "outputs": [
    {
     "data": {
      "text/html": [
       "<div>\n",
       "<style scoped>\n",
       "    .dataframe tbody tr th:only-of-type {\n",
       "        vertical-align: middle;\n",
       "    }\n",
       "\n",
       "    .dataframe tbody tr th {\n",
       "        vertical-align: top;\n",
       "    }\n",
       "\n",
       "    .dataframe thead th {\n",
       "        text-align: right;\n",
       "    }\n",
       "</style>\n",
       "<table border=\"1\" class=\"dataframe\">\n",
       "  <thead>\n",
       "    <tr style=\"text-align: right;\">\n",
       "      <th></th>\n",
       "      <th>model</th>\n",
       "      <th>acc_train</th>\n",
       "      <th>acc_valid</th>\n",
       "    </tr>\n",
       "  </thead>\n",
       "  <tbody>\n",
       "    <tr>\n",
       "      <th>13</th>\n",
       "      <td>XGBClassifier</td>\n",
       "      <td>73.09</td>\n",
       "      <td>73.62</td>\n",
       "    </tr>\n",
       "    <tr>\n",
       "      <th>14</th>\n",
       "      <td>LGBMClassifier</td>\n",
       "      <td>83.14</td>\n",
       "      <td>72.99</td>\n",
       "    </tr>\n",
       "    <tr>\n",
       "      <th>3</th>\n",
       "      <td>RidgeClassifier</td>\n",
       "      <td>72.37</td>\n",
       "      <td>72.41</td>\n",
       "    </tr>\n",
       "    <tr>\n",
       "      <th>12</th>\n",
       "      <td>AdaBoostClassifier</td>\n",
       "      <td>71.65</td>\n",
       "      <td>72.06</td>\n",
       "    </tr>\n",
       "    <tr>\n",
       "      <th>0</th>\n",
       "      <td>Logistic Regression</td>\n",
       "      <td>71.72</td>\n",
       "      <td>71.96</td>\n",
       "    </tr>\n",
       "    <tr>\n",
       "      <th>9</th>\n",
       "      <td>Random Forest</td>\n",
       "      <td>99.97</td>\n",
       "      <td>71.82</td>\n",
       "    </tr>\n",
       "    <tr>\n",
       "      <th>11</th>\n",
       "      <td>GradientBoostingClassifier</td>\n",
       "      <td>93.87</td>\n",
       "      <td>71.69</td>\n",
       "    </tr>\n",
       "    <tr>\n",
       "      <th>5</th>\n",
       "      <td>Naive Bayes</td>\n",
       "      <td>70.27</td>\n",
       "      <td>69.79</td>\n",
       "    </tr>\n",
       "    <tr>\n",
       "      <th>4</th>\n",
       "      <td>BaggingClassifier</td>\n",
       "      <td>97.98</td>\n",
       "      <td>69.57</td>\n",
       "    </tr>\n",
       "    <tr>\n",
       "      <th>2</th>\n",
       "      <td>K-Nearest Neighbors</td>\n",
       "      <td>81.46</td>\n",
       "      <td>67.18</td>\n",
       "    </tr>\n",
       "    <tr>\n",
       "      <th>10</th>\n",
       "      <td>ExtraTreesClassifier</td>\n",
       "      <td>66.93</td>\n",
       "      <td>66.60</td>\n",
       "    </tr>\n",
       "    <tr>\n",
       "      <th>6</th>\n",
       "      <td>Perceptron</td>\n",
       "      <td>66.65</td>\n",
       "      <td>65.76</td>\n",
       "    </tr>\n",
       "    <tr>\n",
       "      <th>8</th>\n",
       "      <td>Decision Tree</td>\n",
       "      <td>99.98</td>\n",
       "      <td>63.61</td>\n",
       "    </tr>\n",
       "    <tr>\n",
       "      <th>1</th>\n",
       "      <td>Support Vector Machine</td>\n",
       "      <td>56.63</td>\n",
       "      <td>57.03</td>\n",
       "    </tr>\n",
       "    <tr>\n",
       "      <th>7</th>\n",
       "      <td>Stochastic Gradient Decent</td>\n",
       "      <td>56.01</td>\n",
       "      <td>55.47</td>\n",
       "    </tr>\n",
       "  </tbody>\n",
       "</table>\n",
       "</div>"
      ],
      "text/plain": [
       "                         model  acc_train  acc_valid\n",
       "13               XGBClassifier      73.09      73.62\n",
       "14              LGBMClassifier      83.14      72.99\n",
       "3              RidgeClassifier      72.37      72.41\n",
       "12          AdaBoostClassifier      71.65      72.06\n",
       "0          Logistic Regression      71.72      71.96\n",
       "9                Random Forest      99.97      71.82\n",
       "11  GradientBoostingClassifier      93.87      71.69\n",
       "5                  Naive Bayes      70.27      69.79\n",
       "4            BaggingClassifier      97.98      69.57\n",
       "2          K-Nearest Neighbors      81.46      67.18\n",
       "10        ExtraTreesClassifier      66.93      66.60\n",
       "6                   Perceptron      66.65      65.76\n",
       "8                Decision Tree      99.98      63.61\n",
       "1       Support Vector Machine      56.63      57.03\n",
       "7   Stochastic Gradient Decent      56.01      55.47"
      ]
     },
     "execution_count": 44,
     "metadata": {},
     "output_type": "execute_result"
    }
   ],
   "source": [
    "res.sort_values(by=['acc_valid', 'acc_train'], ascending=False)"
   ]
  },
  {
   "cell_type": "markdown",
   "metadata": {},
   "source": [
    "在验证集中，XGBM 和 LGBM 预测准确率最高，因此是推荐的模型。"
   ]
  },
  {
   "cell_type": "code",
   "execution_count": 45,
   "metadata": {},
   "outputs": [
    {
     "data": {
      "image/png": "[encoded data removed]",
      "text/plain": [
       "<Figure size 576x432 with 1 Axes>"
      ]
     },
     "metadata": {
      "needs_background": "light"
     },
     "output_type": "display_data"
    }
   ],
   "source": [
    "plt.figure(figsize=[8,6])\n",
    "x = res['model']\n",
    "plt.plot(x, res['acc_train'], label = 'acc_train', c='steelblue', lw=3)\n",
    "plt.plot(x, res['acc_valid'], label = 'acc_valid', c='indianred', lw=3)\n",
    "plt.legend()\n",
    "plt.grid(ls=\"-.\", lw=1, c='darkgrey')\n",
    "plt.title('Models Comparison')\n",
    "plt.ylabel('Accuracy')\n",
    "plt.xticks(x, rotation='vertical')\n",
    "plt.savefig('sklearn_compare.png')\n",
    "plt.show()"
   ]
  },
  {
   "cell_type": "markdown",
   "metadata": {},
   "source": [
    "## Keras 模型\n",
    "\n",
    "神经网络是一种比标准机器学习更复杂、更强大的算法，属于深度学习模型。Keras 是一个开源人工神经网络库，可以作为 Tensorflow、Microsoft-CNTK 和 Theano 的高阶应用程序接口，进行深度学习模型的设计、调试、评估、应用和可视化。在这里，我们用 Keras 搭建神经网络，并训练好的网络进行心血管疾病预测。"
   ]
  },
  {
   "cell_type": "code",
   "execution_count": 46,
   "metadata": {},
   "outputs": [],
   "source": [
    "import keras\n",
    "from keras.models import Sequential\n",
    "from keras.layers import Dense, Dropout\n",
    "from keras import optimizers\n",
    "from keras.wrappers.scikit_learn import KerasClassifier\n",
    "from keras.callbacks import EarlyStopping, ModelCheckpoint\n",
    "\n",
    "from sklearn import metrics\n",
    "\n",
    "import matplotlib.pyplot as plt"
   ]
  },
  {
   "cell_type": "markdown",
   "metadata": {},
   "source": [
    "### 神经网络 1\n",
    "\n",
    "首先，我们先定义一个神经网络，用 Adam 作为优化器。我们这个神经网络包含四个 Dense 层，和两个 Dropout 层。"
   ]
  },
  {
   "cell_type": "code",
   "execution_count": 47,
   "metadata": {},
   "outputs": [],
   "source": [
    "def build_ann(optimizer='adam'):\n",
    "    \n",
    "    # Initializing the ANN\n",
    "    ann = Sequential()\n",
    "    \n",
    "    # Adding the input layer and the first hidden layer of the ANN with dropout\n",
    "    ann.add(Dense(units=32, kernel_initializer='glorot_uniform', activation='relu', input_shape=(len(train.columns),)))\n",
    "    \n",
    "    # Add other layers, it is not necessary to pass the shape because there is a layer before\n",
    "    ann.add(Dense(units=64, kernel_initializer='glorot_uniform', activation='relu'))\n",
    "    ann.add(Dropout(rate=0.5))\n",
    "    ann.add(Dense(units=64, kernel_initializer='glorot_uniform', activation='relu'))\n",
    "    ann.add(Dropout(rate=0.5))\n",
    "    \n",
    "    # Adding the output layer\n",
    "    ann.add(Dense(units=1, kernel_initializer='glorot_uniform', activation='sigmoid'))\n",
    "    \n",
    "    # Compiling the ANN\n",
    "    ann.compile(optimizer=optimizer, loss='binary_crossentropy', metrics=['accuracy'])\n",
    "    \n",
    "    return ann"
   ]
  },
  {
   "cell_type": "markdown",
   "metadata": {},
   "source": [
    "然后我们就可以调整学习率进行训练（你可以训练更多个 epoch）。"
   ]
  },
  {
   "cell_type": "code",
   "execution_count": 48,
   "metadata": {},
   "outputs": [
    {
     "name": "stdout",
     "output_type": "stream",
     "text": [
      "Epoch 1/30\n",
      "3880/3880 [==============================] - 4s 1ms/step - loss: 19.7979 - accuracy: 0.5054 - val_loss: 0.6933 - val_accuracy: 0.4964\n",
      "Epoch 2/30\n",
      "3880/3880 [==============================] - 3s 895us/step - loss: 0.6931 - accuracy: 0.5050 - val_loss: 0.6933 - val_accuracy: 0.4964\n",
      "Epoch 3/30\n",
      "3880/3880 [==============================] - 3s 859us/step - loss: 0.6931 - accuracy: 0.5060 - val_loss: 0.6932 - val_accuracy: 0.4964\n",
      "Epoch 4/30\n",
      "3880/3880 [==============================] - 3s 825us/step - loss: 0.6931 - accuracy: 0.5058 - val_loss: 0.6932 - val_accuracy: 0.4964\n",
      "Epoch 5/30\n",
      "3880/3880 [==============================] - 3s 836us/step - loss: 0.6931 - accuracy: 0.5053 - val_loss: 0.6934 - val_accuracy: 0.4964\n",
      "Epoch 6/30\n",
      "3880/3880 [==============================] - 4s 1ms/step - loss: 0.6931 - accuracy: 0.5060 - val_loss: 0.6934 - val_accuracy: 0.4964\n",
      "Epoch 7/30\n",
      "3880/3880 [==============================] - 3s 899us/step - loss: 0.6931 - accuracy: 0.5047 - val_loss: 0.6934 - val_accuracy: 0.4964\n",
      "Epoch 8/30\n",
      "3880/3880 [==============================] - 4s 925us/step - loss: 0.6931 - accuracy: 0.5053 - val_loss: 0.6933 - val_accuracy: 0.4964\n",
      "Epoch 9/30\n",
      "3880/3880 [==============================] - 3s 897us/step - loss: 0.6931 - accuracy: 0.5040 - val_loss: 0.6935 - val_accuracy: 0.4964\n",
      "Epoch 10/30\n",
      "3880/3880 [==============================] - 4s 972us/step - loss: 0.6931 - accuracy: 0.5060 - val_loss: 0.6932 - val_accuracy: 0.4964\n",
      "Epoch 11/30\n",
      "3880/3880 [==============================] - 3s 890us/step - loss: 0.6931 - accuracy: 0.5041 - val_loss: 0.6933 - val_accuracy: 0.4964\n",
      "Epoch 12/30\n",
      "3880/3880 [==============================] - 3s 889us/step - loss: 0.6931 - accuracy: 0.5054 - val_loss: 0.6933 - val_accuracy: 0.4964\n",
      "Epoch 13/30\n",
      "3880/3880 [==============================] - 3s 887us/step - loss: 0.6931 - accuracy: 0.5060 - val_loss: 0.6933 - val_accuracy: 0.4964\n",
      "Epoch 14/30\n",
      "3880/3880 [==============================] - 4s 924us/step - loss: 0.6931 - accuracy: 0.5052 - val_loss: 0.6934 - val_accuracy: 0.4964\n",
      "Epoch 15/30\n",
      "3880/3880 [==============================] - 3s 899us/step - loss: 0.6931 - accuracy: 0.5053 - val_loss: 0.6934 - val_accuracy: 0.4964\n",
      "Epoch 16/30\n",
      "3880/3880 [==============================] - 3s 868us/step - loss: 0.6931 - accuracy: 0.5053 - val_loss: 0.6933 - val_accuracy: 0.4964\n",
      "Epoch 17/30\n",
      "3880/3880 [==============================] - 4s 1ms/step - loss: 0.6931 - accuracy: 0.5056 - val_loss: 0.6933 - val_accuracy: 0.4964\n",
      "Epoch 18/30\n",
      "3880/3880 [==============================] - 3s 865us/step - loss: 0.6931 - accuracy: 0.5060 - val_loss: 0.6932 - val_accuracy: 0.4964\n",
      "Epoch 19/30\n",
      "3880/3880 [==============================] - 3s 821us/step - loss: 0.6931 - accuracy: 0.5054 - val_loss: 0.6932 - val_accuracy: 0.4964\n",
      "Epoch 20/30\n",
      "3880/3880 [==============================] - 4s 945us/step - loss: 0.6931 - accuracy: 0.5037 - val_loss: 0.6932 - val_accuracy: 0.4964\n",
      "Epoch 21/30\n",
      "3880/3880 [==============================] - 4s 951us/step - loss: 0.6931 - accuracy: 0.5056 - val_loss: 0.6932 - val_accuracy: 0.4964\n",
      "Epoch 22/30\n",
      "3880/3880 [==============================] - 4s 940us/step - loss: 0.6931 - accuracy: 0.5049 - val_loss: 0.6934 - val_accuracy: 0.4964\n",
      "Epoch 23/30\n",
      "3880/3880 [==============================] - 4s 1ms/step - loss: 0.6931 - accuracy: 0.5050 - val_loss: 0.6933 - val_accuracy: 0.4964\n",
      "Epoch 24/30\n",
      "3880/3880 [==============================] - 3s 897us/step - loss: 0.6931 - accuracy: 0.5051 - val_loss: 0.6935 - val_accuracy: 0.4964\n",
      "Epoch 25/30\n",
      "3880/3880 [==============================] - 4s 1ms/step - loss: 0.6931 - accuracy: 0.5049 - val_loss: 0.6932 - val_accuracy: 0.4964\n",
      "Epoch 26/30\n",
      "3880/3880 [==============================] - 4s 959us/step - loss: 0.6931 - accuracy: 0.5060 - val_loss: 0.6933 - val_accuracy: 0.4964\n",
      "Epoch 27/30\n",
      "3880/3880 [==============================] - 4s 910us/step - loss: 0.6931 - accuracy: 0.5058 - val_loss: 0.6933 - val_accuracy: 0.4964\n",
      "Epoch 28/30\n",
      "3880/3880 [==============================] - 3s 785us/step - loss: 0.6931 - accuracy: 0.5044 - val_loss: 0.6932 - val_accuracy: 0.4964\n",
      "Epoch 29/30\n",
      "3880/3880 [==============================] - 3s 896us/step - loss: 0.6931 - accuracy: 0.5047 - val_loss: 0.6933 - val_accuracy: 0.4964\n",
      "Epoch 30/30\n",
      "3880/3880 [==============================] - 3s 894us/step - loss: 0.6931 - accuracy: 0.5041 - val_loss: 0.6935 - val_accuracy: 0.4964\n"
     ]
    }
   ],
   "source": [
    "opt = optimizers.Adam(lr=0.001)\n",
    "ann = build_ann(opt)\n",
    "# 训练神经网络\n",
    "history = ann.fit(train, train_labels, batch_size=16, epochs=30, validation_data=(valid, ground_truth))"
   ]
  },
  {
   "cell_type": "markdown",
   "metadata": {},
   "source": [
    "训练之后我们就可以进行结果预测了，但是我们得到的是患病概率，目标输出是患病与否，我们需要将结果转化成二值，在此，为了方便操作，我们直接将概率大于 0.5 的预测定义为患病，然后分别对训练集和验证集的预测结果计算准确率。"
   ]
  },
  {
   "cell_type": "code",
   "execution_count": 49,
   "metadata": {},
   "outputs": [
    {
     "data": {
      "text/plain": [
       "50.6"
      ]
     },
     "execution_count": 49,
     "metadata": {},
     "output_type": "execute_result"
    }
   ],
   "source": [
    "# Predicting the Train set results\n",
    "ann_prediction = ann.predict(train)\n",
    "ann_prediction = (ann_prediction > 0.5)*1 # convert probabilities to binary output\n",
    "\n",
    "# Compute error between predicted data and true response and display it in confusion matrix\n",
    "acc_ann1 = round(metrics.accuracy_score(train_labels, ann_prediction) * 100, 2)\n",
    "acc_ann1"
   ]
  },
  {
   "cell_type": "code",
   "execution_count": 50,
   "metadata": {},
   "outputs": [
    {
     "data": {
      "text/plain": [
       "49.64"
      ]
     },
     "execution_count": 50,
     "metadata": {},
     "output_type": "execute_result"
    }
   ],
   "source": [
    "# Predicting the Validation set results\n",
    "ann_prediction_valid = ann.predict(valid)\n",
    "ann_prediction_valid = (ann_prediction_valid > 0.5)*1 # convert probabilities to binary output\n",
    "\n",
    "# Compute error between predicted data and true response and display it in confusion matrix\n",
    "acc_valid_ann1 = round(metrics.accuracy_score(ground_truth, ann_prediction_valid) * 100, 2)\n",
    "acc_valid_ann1"
   ]
  },
  {
   "cell_type": "markdown",
   "metadata": {},
   "source": [
    "### 神经网络 2\n",
    "\n",
    "我们再构建一个不同的神经网络，使用不同单元个数的 Dense 层和核初始器。"
   ]
  },
  {
   "cell_type": "code",
   "execution_count": 51,
   "metadata": {},
   "outputs": [
    {
     "name": "stdout",
     "output_type": "stream",
     "text": [
      "Model: \"sequential_1\"\n",
      "_________________________________________________________________\n",
      "Layer (type)                 Output Shape              Param #   \n",
      "=================================================================\n",
      "dense_4 (Dense)              (None, 16)                208       \n",
      "_________________________________________________________________\n",
      "dropout_2 (Dropout)          (None, 16)                0         \n",
      "_________________________________________________________________\n",
      "dense_5 (Dense)              (None, 64)                1088      \n",
      "_________________________________________________________________\n",
      "dropout_3 (Dropout)          (None, 64)                0         \n",
      "_________________________________________________________________\n",
      "dense_6 (Dense)              (None, 32)                2080      \n",
      "_________________________________________________________________\n",
      "dense_7 (Dense)              (None, 1)                 33        \n",
      "=================================================================\n",
      "Total params: 3,409\n",
      "Trainable params: 3,409\n",
      "Non-trainable params: 0\n",
      "_________________________________________________________________\n"
     ]
    }
   ],
   "source": [
    "# Model\n",
    "model = Sequential()\n",
    "model.add(Dense(16, input_dim = train.shape[1], kernel_initializer='random_uniform', activation='relu'))\n",
    "model.add(Dropout(0.3))\n",
    "model.add(Dense(64, kernel_initializer='random_uniform', activation='relu'))\n",
    "model.add(Dropout(0.3))\n",
    "model.add(Dense(32, kernel_initializer='random_uniform', activation='relu'))\n",
    "model.add(Dense(1, activation='sigmoid'))\n",
    "model.summary()"
   ]
  },
  {
   "cell_type": "markdown",
   "metadata": {},
   "source": [
    "对刚才构建好的神经网络进行训练（你可以训练更多个 epoch）。"
   ]
  },
  {
   "cell_type": "code",
   "execution_count": 52,
   "metadata": {},
   "outputs": [
    {
     "name": "stdout",
     "output_type": "stream",
     "text": [
      "Epoch 1/30\n",
      "970/970 [==============================] - 1s 1ms/step - loss: 0.7078 - accuracy: 0.5061 - val_loss: 0.6935 - val_accuracy: 0.4964\n",
      "Epoch 2/30\n",
      "970/970 [==============================] - 1s 1ms/step - loss: 0.6931 - accuracy: 0.5049 - val_loss: 0.6935 - val_accuracy: 0.4964\n",
      "Epoch 3/30\n",
      "970/970 [==============================] - 1s 1ms/step - loss: 0.6931 - accuracy: 0.5060 - val_loss: 0.6932 - val_accuracy: 0.4964\n",
      "Epoch 4/30\n",
      "970/970 [==============================] - 1s 997us/step - loss: 0.6931 - accuracy: 0.5041 - val_loss: 0.6936 - val_accuracy: 0.4964\n",
      "Epoch 5/30\n",
      "970/970 [==============================] - 1s 1ms/step - loss: 0.6931 - accuracy: 0.5060 - val_loss: 0.6932 - val_accuracy: 0.4964\n",
      "Epoch 6/30\n",
      "970/970 [==============================] - 1s 1ms/step - loss: 0.6931 - accuracy: 0.5060 - val_loss: 0.6933 - val_accuracy: 0.4964\n",
      "Epoch 7/30\n",
      "970/970 [==============================] - 1s 1ms/step - loss: 0.6931 - accuracy: 0.5060 - val_loss: 0.6932 - val_accuracy: 0.4964\n",
      "Epoch 8/30\n",
      "970/970 [==============================] - 1s 867us/step - loss: 0.6931 - accuracy: 0.5047 - val_loss: 0.6933 - val_accuracy: 0.4964\n",
      "Epoch 9/30\n",
      "970/970 [==============================] - 1s 865us/step - loss: 0.6931 - accuracy: 0.5060 - val_loss: 0.6933 - val_accuracy: 0.4964\n",
      "Epoch 10/30\n",
      "970/970 [==============================] - 1s 893us/step - loss: 0.6931 - accuracy: 0.5060 - val_loss: 0.6933 - val_accuracy: 0.4964\n",
      "Epoch 11/30\n",
      "970/970 [==============================] - 1s 893us/step - loss: 0.6931 - accuracy: 0.5060 - val_loss: 0.6932 - val_accuracy: 0.4964\n",
      "Epoch 12/30\n",
      "970/970 [==============================] - 1s 884us/step - loss: 0.6931 - accuracy: 0.5060 - val_loss: 0.6933 - val_accuracy: 0.4964\n",
      "Epoch 13/30\n",
      "970/970 [==============================] - 1s 979us/step - loss: 0.6931 - accuracy: 0.5060 - val_loss: 0.6933 - val_accuracy: 0.4964\n",
      "Epoch 14/30\n",
      "970/970 [==============================] - 1s 1ms/step - loss: 0.6931 - accuracy: 0.5060 - val_loss: 0.6932 - val_accuracy: 0.4964\n",
      "Epoch 15/30\n",
      "970/970 [==============================] - 1s 1ms/step - loss: 0.6931 - accuracy: 0.5060 - val_loss: 0.6933 - val_accuracy: 0.4964\n",
      "Epoch 16/30\n",
      "970/970 [==============================] - 1s 928us/step - loss: 0.6931 - accuracy: 0.5060 - val_loss: 0.6933 - val_accuracy: 0.4964\n",
      "Epoch 17/30\n",
      "970/970 [==============================] - 1s 1ms/step - loss: 0.6931 - accuracy: 0.5060 - val_loss: 0.6932 - val_accuracy: 0.4964\n",
      "Epoch 18/30\n",
      "970/970 [==============================] - 1s 1ms/step - loss: 0.6931 - accuracy: 0.5057 - val_loss: 0.6934 - val_accuracy: 0.4964\n",
      "Epoch 19/30\n",
      "970/970 [==============================] - 1s 935us/step - loss: 0.6931 - accuracy: 0.5060 - val_loss: 0.6933 - val_accuracy: 0.4964\n",
      "Epoch 20/30\n",
      "970/970 [==============================] - 1s 1ms/step - loss: 0.6931 - accuracy: 0.5049 - val_loss: 0.6933 - val_accuracy: 0.4964\n",
      "Epoch 21/30\n",
      "970/970 [==============================] - 1s 988us/step - loss: 0.6931 - accuracy: 0.5060 - val_loss: 0.6933 - val_accuracy: 0.4964\n"
     ]
    }
   ],
   "source": [
    "model.compile(loss='binary_crossentropy', optimizer='adam', metrics=['accuracy'])\n",
    "es = EarlyStopping(monitor='val_accuracy', patience=20, mode='max')\n",
    "hist = model.fit(train, train_labels, batch_size=64, validation_data=(valid, ground_truth), \n",
    "               epochs=30, verbose=1, callbacks=[es])"
   ]
  },
  {
   "cell_type": "markdown",
   "metadata": {},
   "source": [
    "同理，我们需要对两个数据集的预测结果进行二值化处理，然后计算预测准确率。"
   ]
  },
  {
   "cell_type": "code",
   "execution_count": 56,
   "metadata": {},
   "outputs": [
    {
     "data": {
      "text/plain": [
       "50.6"
      ]
     },
     "execution_count": 56,
     "metadata": {},
     "output_type": "execute_result"
    }
   ],
   "source": [
    "# Predicting the Train set results\n",
    "nn_prediction = model.predict(train)\n",
    "nn_prediction = (nn_prediction > 0.5)*1 # convert probabilities to binary output\n",
    "\n",
    "# Compute error between predicted data and true response\n",
    "acc_ann2 = round(metrics.accuracy_score(train_labels, nn_prediction) * 100, 2)\n",
    "acc_ann2"
   ]
  },
  {
   "cell_type": "code",
   "execution_count": 57,
   "metadata": {},
   "outputs": [
    {
     "data": {
      "text/plain": [
       "49.64"
      ]
     },
     "execution_count": 57,
     "metadata": {},
     "output_type": "execute_result"
    }
   ],
   "source": [
    "# Predicting the Validation set results\n",
    "nn_prediction_valid = model.predict(valid)\n",
    "nn_prediction_valid = (nn_prediction_valid > 0.5)*1 # convert probabilities to binary output\n",
    "\n",
    "# Compute error between predicted data and true response\n",
    "acc_test_ann2 = round(metrics.accuracy_score(ground_truth, nn_prediction_valid) * 100, 2)\n",
    "acc_test_ann2"
   ]
  },
  {
   "cell_type": "markdown",
   "metadata": {},
   "source": [
    "通过比较神经网络和其他机器学习方法得到的预测准确率，我们发现，XGB 和 LGBM 依然是预测准确率最高的两个模型。"
   ]
  },
  {
   "cell_type": "markdown",
   "metadata": {},
   "source": [
    "## 结语\n",
    "\n",
    "本实训用 Sklearn 和 Keras 工具构建了数个心血管疾病预测模型，用预处理好的数据给不同模型训练，我们得到了不同模型的预测结果。我们发现，XGB 和 LGBM 是预测准确率最高的两个模型，最高准确率在验证集可达 70% 左右。"
   ]
  }
 ],
 "metadata": {
  "kernelspec": {
   "display_name": "Python 3",
   "language": "python",
   "name": "python3"
  },
  "language_info": {
   "codemirror_mode": {
    "name": "ipython",
    "version": 3
   },
   "file_extension": ".py",
   "mimetype": "text/x-python",
   "name": "python",
   "nbconvert_exporter": "python",
   "pygments_lexer": "ipython3",
   "version": "3.7.7"
  }
 },
 "nbformat": 4,
 "nbformat_minor": 4
}
